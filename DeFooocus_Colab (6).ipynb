{
 "cells": [
  {
   "cell_type": "markdown",
   "id": "0967b9c3",
   "metadata": {},
   "source": [
    "# 🚀 DeFooocus Colab Notebook\n",
    "Этот ноутбук запускает **DeFooocus** в Google Colab.\n",
    "\n",
    "👉 Перед запуском включите **GPU**: `Среда выполнения → Изменить среду выполнения → GPU`\n"
   ]
  },
  {
   "cell_type": "code",
   "execution_count": null,
   "id": "e1e68ed6",
   "metadata": {},
   "outputs": [],
   "source": [
    "!nvidia-smi"
   ]
  },
  {
   "cell_type": "code",
   "execution_count": null,
   "id": "9a92fe5c",
   "metadata": {},
   "outputs": [],
   "source": [
    "!pip install -q --upgrade pip setuptools wheel jedi"
   ]
  },
  {
   "cell_type": "code",
   "execution_count": null,
   "id": "f2975708",
   "metadata": {},
   "outputs": [],
   "source": [
    "!pip install -q torch==2.5.1+cu118 torchvision==0.20.1+cu118 torchaudio==2.5.1+cu118 --index-url https://download.pytorch.org/whl/cu118"
   ]
  },
  {
   "cell_type": "code",
   "execution_count": null,
   "id": "1207cf46",
   "metadata": {},
   "outputs": [],
   "source": [
    "!pip install -q safetensors==0.4.2 tokenizers==0.13.3 --only-binary=:all:"
   ]
  },
  {
   "cell_type": "code",
   "execution_count": null,
   "id": "262fd453",
   "metadata": {},
   "outputs": [],
   "source": [
    "!pip install -q torchsde==0.2.6 einops==0.4.1 transformers==4.30.2 accelerate==0.21.0 pyyaml==6.0.1"
   ]
  },
  {
   "cell_type": "code",
   "execution_count": null,
   "id": "eb535ea6",
   "metadata": {},
   "outputs": [],
   "source": [
    "!git clone https://github.com/lllyasviel/DeFooocus.git\n",
    "%cd DeFooocus"
   ]
  },
  {
   "cell_type": "code",
   "execution_count": null,
   "id": "3dc838f7",
   "metadata": {},
   "outputs": [],
   "source": [
    "!pip install -r requirements.txt --no-build-isolation --no-cache-dir"
   ]
  },
  {
   "cell_type": "code",
   "execution_count": null,
   "id": "e51a5abb",
   "metadata": {},
   "outputs": [],
   "source": [
    "!python entry_with_update.py --share --attention-split --always-high-vram --disable-offload-from-vram --all-in-fp16 --theme dark"
   ]
  }
 ],
 "metadata": {},
 "nbformat": 4,
 "nbformat_minor": 5
}
